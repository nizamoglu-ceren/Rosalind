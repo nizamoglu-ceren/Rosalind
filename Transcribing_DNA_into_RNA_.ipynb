{
  "nbformat": 4,
  "nbformat_minor": 0,
  "metadata": {
    "colab": {
      "provenance": [],
      "authorship_tag": "ABX9TyOc8q4mftmGyegVUDjG8PSa",
      "include_colab_link": true
    },
    "kernelspec": {
      "name": "python3",
      "display_name": "Python 3"
    },
    "language_info": {
      "name": "python"
    }
  },
  "cells": [
    {
      "cell_type": "markdown",
      "metadata": {
        "id": "view-in-github",
        "colab_type": "text"
      },
      "source": [
        "<a href=\"https://colab.research.google.com/github/nizamoglu-ceren/Rosalind/blob/main/Transcribing_DNA_into_RNA_.ipynb\" target=\"_parent\"><img src=\"https://colab.research.google.com/assets/colab-badge.svg\" alt=\"Open In Colab\"/></a>"
      ]
    },
    {
      "cell_type": "markdown",
      "source": [
        "# **Transcribe DNA to RNA**\n",
        "\n",
        "## **Problem Description:**\n",
        "In this problem, you are given a DNA string corresponding to a coding strand, and you need to find its transcribed RNA string. The RNA string is formed by replacing all occurrences of 'T' in the DNA string with 'U' in the RNA string.\n",
        "\n",
        "## **Input:**\n",
        "- A DNA string `t` of length at most 1000 nucleotides.\n",
        "\n",
        "## **Output:**\n",
        "- The transcribed RNA string `u`.\n",
        "\n",
        "\n",
        "## **Biological Context:**\n",
        "In biology, DNA to RNA transcription is a key process where the genetic information in DNA is copied into RNA. RNA then carries this genetic info to create proteins. The transcription process involves replacing \"T\" with \"U\" in the DNA sequence to form the RNA strand. This is critical because RNA is the molecule that conveys instructions for protein synthesis, which controls cell functions and organism health.\n",
        "\n",
        "In simple terms, RNA serves as a messenger between DNA and protein creation.\n",
        "\n",
        "## Rosalind Links: [Rosalind: Transcribe DNA to RNA](https://rosalind.info/problems/rna/)"
      ],
      "metadata": {
        "id": "YruAE33lzkY3"
      }
    }
  ]
}