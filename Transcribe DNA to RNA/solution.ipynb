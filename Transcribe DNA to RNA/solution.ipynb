{
  "nbformat": 4,
  "nbformat_minor": 0,
  "metadata": {
    "colab": {
      "provenance": [],
      "authorship_tag": "ABX9TyNn8wU3n+V0IX0tj7gZsAIl",
      "include_colab_link": true
    },
    "kernelspec": {
      "name": "python3",
      "display_name": "Python 3"
    },
    "language_info": {
      "name": "python"
    }
  },
  "cells": [
    {
      "cell_type": "markdown",
      "metadata": {
        "id": "view-in-github",
        "colab_type": "text"
      },
      "source": [
        "<a href=\"https://colab.research.google.com/github/nizamoglu-ceren/Rosalind/blob/main/Transcribe%20DNA%20to%20RNA/solution.ipynb\" target=\"_parent\"><img src=\"https://colab.research.google.com/assets/colab-badge.svg\" alt=\"Open In Colab\"/></a>"
      ]
    },
    {
      "cell_type": "code",
      "execution_count": 1,
      "metadata": {
        "colab": {
          "base_uri": "https://localhost:8080/"
        },
        "id": "n51aGhlS8IYD",
        "outputId": "9531282a-552a-4f8d-d4de-b2ae8b5cff43"
      },
      "outputs": [
        {
          "output_type": "stream",
          "name": "stdout",
          "text": [
            "GAUGGAACUUGACUACGUAAAUU\n"
          ]
        }
      ],
      "source": [
        "def transcribe_dna_to_rna(dna: str) -> str:\n",
        "    return dna.replace('T', 'U')\n",
        "\n",
        "if __name__ == \"__main__\":\n",
        "    dna_string = \"GATGGAACTTGACTACGTAAATT\"\n",
        "    rna_string = transcribe_dna_to_rna(dna_string)\n",
        "    print(rna_string)"
      ]
    }
  ]
}